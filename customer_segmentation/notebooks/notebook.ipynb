{
 "cells": [
  {
   "cell_type": "code",
   "execution_count": 76,
   "metadata": {},
   "outputs": [],
   "source": [
    "import pandas as pd\n",
    "import numpy as np\n",
    "import seaborn as sns\n",
    "import matplotlib as plt\n",
    "from sklearn.preprocessing import StandardScaler\n",
    "from sklearn.model_selection import train_test_split\n",
    "import re\n"
   ]
  },
  {
   "cell_type": "markdown",
   "metadata": {},
   "source": [
    "# Importing the data from the data set"
   ]
  },
  {
   "cell_type": "code",
   "execution_count": 47,
   "metadata": {},
   "outputs": [
    {
     "data": {
      "text/html": [
       "<div>\n",
       "<style scoped>\n",
       "    .dataframe tbody tr th:only-of-type {\n",
       "        vertical-align: middle;\n",
       "    }\n",
       "\n",
       "    .dataframe tbody tr th {\n",
       "        vertical-align: top;\n",
       "    }\n",
       "\n",
       "    .dataframe thead th {\n",
       "        text-align: right;\n",
       "    }\n",
       "</style>\n",
       "<table border=\"1\" class=\"dataframe\">\n",
       "  <thead>\n",
       "    <tr style=\"text-align: right;\">\n",
       "      <th></th>\n",
       "      <th>TransactionID</th>\n",
       "      <th>CustomerID</th>\n",
       "      <th>CustomerDOB</th>\n",
       "      <th>CustGender</th>\n",
       "      <th>CustLocation</th>\n",
       "      <th>CustAccountBalance</th>\n",
       "      <th>TransactionDate</th>\n",
       "      <th>TransactionTime</th>\n",
       "      <th>TransactionAmount (INR)</th>\n",
       "    </tr>\n",
       "  </thead>\n",
       "  <tbody>\n",
       "    <tr>\n",
       "      <th>0</th>\n",
       "      <td>T1</td>\n",
       "      <td>C5841053</td>\n",
       "      <td>10/1/94</td>\n",
       "      <td>F</td>\n",
       "      <td>JAMSHEDPUR</td>\n",
       "      <td>17819.05</td>\n",
       "      <td>2/8/16</td>\n",
       "      <td>143207</td>\n",
       "      <td>25.0</td>\n",
       "    </tr>\n",
       "    <tr>\n",
       "      <th>1</th>\n",
       "      <td>T2</td>\n",
       "      <td>C2142763</td>\n",
       "      <td>4/4/57</td>\n",
       "      <td>M</td>\n",
       "      <td>JHAJJAR</td>\n",
       "      <td>2270.69</td>\n",
       "      <td>2/8/16</td>\n",
       "      <td>141858</td>\n",
       "      <td>27999.0</td>\n",
       "    </tr>\n",
       "    <tr>\n",
       "      <th>2</th>\n",
       "      <td>T3</td>\n",
       "      <td>C4417068</td>\n",
       "      <td>26/11/96</td>\n",
       "      <td>F</td>\n",
       "      <td>MUMBAI</td>\n",
       "      <td>17874.44</td>\n",
       "      <td>2/8/16</td>\n",
       "      <td>142712</td>\n",
       "      <td>459.0</td>\n",
       "    </tr>\n",
       "    <tr>\n",
       "      <th>3</th>\n",
       "      <td>T4</td>\n",
       "      <td>C5342380</td>\n",
       "      <td>14/9/73</td>\n",
       "      <td>F</td>\n",
       "      <td>MUMBAI</td>\n",
       "      <td>866503.21</td>\n",
       "      <td>2/8/16</td>\n",
       "      <td>142714</td>\n",
       "      <td>2060.0</td>\n",
       "    </tr>\n",
       "    <tr>\n",
       "      <th>4</th>\n",
       "      <td>T5</td>\n",
       "      <td>C9031234</td>\n",
       "      <td>24/3/88</td>\n",
       "      <td>F</td>\n",
       "      <td>NAVI MUMBAI</td>\n",
       "      <td>6714.43</td>\n",
       "      <td>2/8/16</td>\n",
       "      <td>181156</td>\n",
       "      <td>1762.5</td>\n",
       "    </tr>\n",
       "  </tbody>\n",
       "</table>\n",
       "</div>"
      ],
      "text/plain": [
       "  TransactionID CustomerID CustomerDOB CustGender CustLocation  \\\n",
       "0            T1   C5841053     10/1/94          F   JAMSHEDPUR   \n",
       "1            T2   C2142763      4/4/57          M      JHAJJAR   \n",
       "2            T3   C4417068    26/11/96          F       MUMBAI   \n",
       "3            T4   C5342380     14/9/73          F       MUMBAI   \n",
       "4            T5   C9031234     24/3/88          F  NAVI MUMBAI   \n",
       "\n",
       "   CustAccountBalance TransactionDate  TransactionTime  \\\n",
       "0            17819.05          2/8/16           143207   \n",
       "1             2270.69          2/8/16           141858   \n",
       "2            17874.44          2/8/16           142712   \n",
       "3           866503.21          2/8/16           142714   \n",
       "4             6714.43          2/8/16           181156   \n",
       "\n",
       "   TransactionAmount (INR)  \n",
       "0                     25.0  \n",
       "1                  27999.0  \n",
       "2                    459.0  \n",
       "3                   2060.0  \n",
       "4                   1762.5  "
      ]
     },
     "execution_count": 47,
     "metadata": {},
     "output_type": "execute_result"
    }
   ],
   "source": [
    "df = pd.read_csv(r'C:\\Users\\gdmarques\\OneDrive - CRITICAL SOFTWARE, S.A\\Documents\\Customer Segmentation\\customer-segmentation\\customer_segmentation\\data\\bank_transactions.csv')\n",
    "df.head()"
   ]
  },
  {
   "cell_type": "markdown",
   "metadata": {},
   "source": [
    "# Data Cleanup and Preprocess"
   ]
  },
  {
   "cell_type": "markdown",
   "metadata": {},
   "source": [
    "Dropping missing data"
   ]
  },
  {
   "cell_type": "code",
   "execution_count": 48,
   "metadata": {},
   "outputs": [],
   "source": [
    "df.dropna(inplace = True)"
   ]
  },
  {
   "cell_type": "markdown",
   "metadata": {},
   "source": [
    "Check for duplicated values"
   ]
  },
  {
   "cell_type": "code",
   "execution_count": 49,
   "metadata": {},
   "outputs": [
    {
     "data": {
      "text/plain": [
       "np.int64(0)"
      ]
     },
     "execution_count": 49,
     "metadata": {},
     "output_type": "execute_result"
    }
   ],
   "source": [
    "df.duplicated().sum()"
   ]
  },
  {
   "cell_type": "markdown",
   "metadata": {},
   "source": [
    "Both the date of birth and transaction date are in weird types, so I will convert them to datetime format so it is easier to interpret"
   ]
  },
  {
   "cell_type": "code",
   "execution_count": 50,
   "metadata": {},
   "outputs": [],
   "source": [
    "def convert_date(date_str):\n",
    "    date = pd.to_datetime(date_str, format='%d/%m/%y', errors='coerce')\n",
    "    # Adjust century for dates that are incorrectly in the 2000s\n",
    "    if date.year > pd.Timestamp.now().year:\n",
    "        date = date - pd.DateOffset(years=100)\n",
    "    return date\n",
    "\n",
    "df['TransactionDate'] = df['TransactionDate'].apply(convert_date)\n",
    "df['CustomerDOB'] = df['CustomerDOB'].apply(convert_date)\n"
   ]
  },
  {
   "cell_type": "markdown",
   "metadata": {},
   "source": [
    "I will create a new column called \"CustomerAge\" because the age of the customer when each transaction was made. \n",
    "For a bank it is relevant to have this information, because it provides insights into spending behavior, product needs, risk assessment, and customer engagement strategies. \n",
    "By analyzing this information, banks can enhance their offerings, improve customer experience, and foster long-term relationships with customers."
   ]
  },
  {
   "cell_type": "code",
   "execution_count": 51,
   "metadata": {},
   "outputs": [],
   "source": [
    "df['CustomerAge'] =df['TransactionDate'].dt.year - df['CustomerDOB'].dt.year"
   ]
  },
  {
   "cell_type": "code",
   "execution_count": 52,
   "metadata": {},
   "outputs": [
    {
     "data": {
      "text/html": [
       "<div>\n",
       "<style scoped>\n",
       "    .dataframe tbody tr th:only-of-type {\n",
       "        vertical-align: middle;\n",
       "    }\n",
       "\n",
       "    .dataframe tbody tr th {\n",
       "        vertical-align: top;\n",
       "    }\n",
       "\n",
       "    .dataframe thead th {\n",
       "        text-align: right;\n",
       "    }\n",
       "</style>\n",
       "<table border=\"1\" class=\"dataframe\">\n",
       "  <thead>\n",
       "    <tr style=\"text-align: right;\">\n",
       "      <th></th>\n",
       "      <th>TransactionID</th>\n",
       "      <th>CustomerID</th>\n",
       "      <th>CustomerDOB</th>\n",
       "      <th>CustGender</th>\n",
       "      <th>CustLocation</th>\n",
       "      <th>CustAccountBalance</th>\n",
       "      <th>TransactionDate</th>\n",
       "      <th>TransactionTime</th>\n",
       "      <th>TransactionAmount (INR)</th>\n",
       "      <th>CustomerAge</th>\n",
       "    </tr>\n",
       "  </thead>\n",
       "  <tbody>\n",
       "    <tr>\n",
       "      <th>0</th>\n",
       "      <td>T1</td>\n",
       "      <td>C5841053</td>\n",
       "      <td>1994-01-10</td>\n",
       "      <td>F</td>\n",
       "      <td>JAMSHEDPUR</td>\n",
       "      <td>17819.05</td>\n",
       "      <td>2016-08-02</td>\n",
       "      <td>143207</td>\n",
       "      <td>25.0</td>\n",
       "      <td>22.0</td>\n",
       "    </tr>\n",
       "    <tr>\n",
       "      <th>1</th>\n",
       "      <td>T2</td>\n",
       "      <td>C2142763</td>\n",
       "      <td>1957-04-04</td>\n",
       "      <td>M</td>\n",
       "      <td>JHAJJAR</td>\n",
       "      <td>2270.69</td>\n",
       "      <td>2016-08-02</td>\n",
       "      <td>141858</td>\n",
       "      <td>27999.0</td>\n",
       "      <td>59.0</td>\n",
       "    </tr>\n",
       "    <tr>\n",
       "      <th>2</th>\n",
       "      <td>T3</td>\n",
       "      <td>C4417068</td>\n",
       "      <td>1996-11-26</td>\n",
       "      <td>F</td>\n",
       "      <td>MUMBAI</td>\n",
       "      <td>17874.44</td>\n",
       "      <td>2016-08-02</td>\n",
       "      <td>142712</td>\n",
       "      <td>459.0</td>\n",
       "      <td>20.0</td>\n",
       "    </tr>\n",
       "    <tr>\n",
       "      <th>3</th>\n",
       "      <td>T4</td>\n",
       "      <td>C5342380</td>\n",
       "      <td>1973-09-14</td>\n",
       "      <td>F</td>\n",
       "      <td>MUMBAI</td>\n",
       "      <td>866503.21</td>\n",
       "      <td>2016-08-02</td>\n",
       "      <td>142714</td>\n",
       "      <td>2060.0</td>\n",
       "      <td>43.0</td>\n",
       "    </tr>\n",
       "    <tr>\n",
       "      <th>4</th>\n",
       "      <td>T5</td>\n",
       "      <td>C9031234</td>\n",
       "      <td>1988-03-24</td>\n",
       "      <td>F</td>\n",
       "      <td>NAVI MUMBAI</td>\n",
       "      <td>6714.43</td>\n",
       "      <td>2016-08-02</td>\n",
       "      <td>181156</td>\n",
       "      <td>1762.5</td>\n",
       "      <td>28.0</td>\n",
       "    </tr>\n",
       "  </tbody>\n",
       "</table>\n",
       "</div>"
      ],
      "text/plain": [
       "  TransactionID CustomerID CustomerDOB CustGender CustLocation  \\\n",
       "0            T1   C5841053  1994-01-10          F   JAMSHEDPUR   \n",
       "1            T2   C2142763  1957-04-04          M      JHAJJAR   \n",
       "2            T3   C4417068  1996-11-26          F       MUMBAI   \n",
       "3            T4   C5342380  1973-09-14          F       MUMBAI   \n",
       "4            T5   C9031234  1988-03-24          F  NAVI MUMBAI   \n",
       "\n",
       "   CustAccountBalance TransactionDate  TransactionTime  \\\n",
       "0            17819.05      2016-08-02           143207   \n",
       "1             2270.69      2016-08-02           141858   \n",
       "2            17874.44      2016-08-02           142712   \n",
       "3           866503.21      2016-08-02           142714   \n",
       "4             6714.43      2016-08-02           181156   \n",
       "\n",
       "   TransactionAmount (INR)  CustomerAge  \n",
       "0                     25.0         22.0  \n",
       "1                  27999.0         59.0  \n",
       "2                    459.0         20.0  \n",
       "3                   2060.0         43.0  \n",
       "4                   1762.5         28.0  "
      ]
     },
     "execution_count": 52,
     "metadata": {},
     "output_type": "execute_result"
    }
   ],
   "source": [
    "df.head()"
   ]
  },
  {
   "cell_type": "markdown",
   "metadata": {},
   "source": [
    "The dataset has to much data and a few , and has some inconsistencies in the CusLocation column."
   ]
  },
  {
   "cell_type": "markdown",
   "metadata": {},
   "source": [
    "To overcome theses complications, I decided to keep only the lines where the location is repeated at least 7500 times, to make the dataset more consistent and relevant at the same time."
   ]
  },
  {
   "cell_type": "code",
   "execution_count": 55,
   "metadata": {},
   "outputs": [
    {
     "name": "stdout",
     "output_type": "stream",
     "text": [
      "CustLocation\n",
      "MUMBAI                  101997\n",
      "NEW DELHI                84143\n",
      "BANGALORE                81330\n",
      "GURGAON                  73594\n",
      "DELHI                    70549\n",
      "                         ...  \n",
      "SAHIBGANJ                    1\n",
      "WEST WAGLE I E THANE         1\n",
      "VIRAR MUMBAI                 1\n",
      "CHUNCHURA HOOGHLY            1\n",
      "MAHINDER GARH                1\n",
      "Name: count, Length: 9275, dtype: int64\n"
     ]
    }
   ],
   "source": [
    "location_counts = df['CustLocation'].value_counts()\n",
    "\n",
    "print(location_counts)"
   ]
  },
  {
   "cell_type": "code",
   "execution_count": 56,
   "metadata": {},
   "outputs": [
    {
     "data": {
      "text/html": [
       "<div>\n",
       "<style scoped>\n",
       "    .dataframe tbody tr th:only-of-type {\n",
       "        vertical-align: middle;\n",
       "    }\n",
       "\n",
       "    .dataframe tbody tr th {\n",
       "        vertical-align: top;\n",
       "    }\n",
       "\n",
       "    .dataframe thead th {\n",
       "        text-align: right;\n",
       "    }\n",
       "</style>\n",
       "<table border=\"1\" class=\"dataframe\">\n",
       "  <thead>\n",
       "    <tr style=\"text-align: right;\">\n",
       "      <th></th>\n",
       "      <th>TransactionID</th>\n",
       "      <th>CustomerID</th>\n",
       "      <th>CustomerDOB</th>\n",
       "      <th>CustGender</th>\n",
       "      <th>CustLocation</th>\n",
       "      <th>CustAccountBalance</th>\n",
       "      <th>TransactionDate</th>\n",
       "      <th>TransactionTime</th>\n",
       "      <th>TransactionAmount (INR)</th>\n",
       "      <th>CustomerAge</th>\n",
       "    </tr>\n",
       "  </thead>\n",
       "  <tbody>\n",
       "    <tr>\n",
       "      <th>999576</th>\n",
       "      <td>T999577</td>\n",
       "      <td>C3428855</td>\n",
       "      <td>1993-02-02</td>\n",
       "      <td>F</td>\n",
       "      <td>(154) BHASKOLA FARIDABAD</td>\n",
       "      <td>49388.09</td>\n",
       "      <td>2016-09-14</td>\n",
       "      <td>131252</td>\n",
       "      <td>1218.72</td>\n",
       "      <td>23.0</td>\n",
       "    </tr>\n",
       "    <tr>\n",
       "      <th>254706</th>\n",
       "      <td>T254707</td>\n",
       "      <td>C5028866</td>\n",
       "      <td>1993-02-02</td>\n",
       "      <td>F</td>\n",
       "      <td>(154) BHASKOLA FARIDABAD</td>\n",
       "      <td>49388.09</td>\n",
       "      <td>2016-08-07</td>\n",
       "      <td>214729</td>\n",
       "      <td>30.00</td>\n",
       "      <td>23.0</td>\n",
       "    </tr>\n",
       "    <tr>\n",
       "      <th>246731</th>\n",
       "      <td>T246732</td>\n",
       "      <td>C4328852</td>\n",
       "      <td>1993-02-02</td>\n",
       "      <td>F</td>\n",
       "      <td>(154) BHASKOLA FARIDABAD</td>\n",
       "      <td>49388.09</td>\n",
       "      <td>2016-08-07</td>\n",
       "      <td>190025</td>\n",
       "      <td>99.00</td>\n",
       "      <td>23.0</td>\n",
       "    </tr>\n",
       "    <tr>\n",
       "      <th>248110</th>\n",
       "      <td>T248111</td>\n",
       "      <td>C3028850</td>\n",
       "      <td>1993-02-02</td>\n",
       "      <td>F</td>\n",
       "      <td>(154) BHASKOLA FARIDABAD</td>\n",
       "      <td>49388.09</td>\n",
       "      <td>2016-08-07</td>\n",
       "      <td>161607</td>\n",
       "      <td>50.00</td>\n",
       "      <td>23.0</td>\n",
       "    </tr>\n",
       "    <tr>\n",
       "      <th>686004</th>\n",
       "      <td>T686005</td>\n",
       "      <td>C2728824</td>\n",
       "      <td>1993-02-02</td>\n",
       "      <td>F</td>\n",
       "      <td>(154) BHASKOLA FARIDABAD</td>\n",
       "      <td>49388.09</td>\n",
       "      <td>2016-08-30</td>\n",
       "      <td>223715</td>\n",
       "      <td>3383.13</td>\n",
       "      <td>23.0</td>\n",
       "    </tr>\n",
       "  </tbody>\n",
       "</table>\n",
       "</div>"
      ],
      "text/plain": [
       "       TransactionID CustomerID CustomerDOB CustGender  \\\n",
       "999576       T999577   C3428855  1993-02-02          F   \n",
       "254706       T254707   C5028866  1993-02-02          F   \n",
       "246731       T246732   C4328852  1993-02-02          F   \n",
       "248110       T248111   C3028850  1993-02-02          F   \n",
       "686004       T686005   C2728824  1993-02-02          F   \n",
       "\n",
       "                    CustLocation  CustAccountBalance TransactionDate  \\\n",
       "999576  (154) BHASKOLA FARIDABAD            49388.09      2016-09-14   \n",
       "254706  (154) BHASKOLA FARIDABAD            49388.09      2016-08-07   \n",
       "246731  (154) BHASKOLA FARIDABAD            49388.09      2016-08-07   \n",
       "248110  (154) BHASKOLA FARIDABAD            49388.09      2016-08-07   \n",
       "686004  (154) BHASKOLA FARIDABAD            49388.09      2016-08-30   \n",
       "\n",
       "        TransactionTime  TransactionAmount (INR)  CustomerAge  \n",
       "999576           131252                  1218.72         23.0  \n",
       "254706           214729                    30.00         23.0  \n",
       "246731           190025                    99.00         23.0  \n",
       "248110           161607                    50.00         23.0  \n",
       "686004           223715                  3383.13         23.0  "
      ]
     },
     "execution_count": 56,
     "metadata": {},
     "output_type": "execute_result"
    }
   ],
   "source": [
    "df_test = df.sort_values(by = 'CustLocation')\n",
    "\n",
    "df_test.head()"
   ]
  },
  {
   "cell_type": "code",
   "execution_count": 64,
   "metadata": {},
   "outputs": [],
   "source": [
    "location_counts = df['CustLocation'].value_counts()\n",
    "\n",
    "\n",
    "df = df[df['CustLocation'].isin(location_counts[location_counts >= 7000].index)]\n",
    "\n"
   ]
  },
  {
   "cell_type": "code",
   "execution_count": 67,
   "metadata": {},
   "outputs": [
    {
     "data": {
      "text/html": [
       "<div>\n",
       "<style scoped>\n",
       "    .dataframe tbody tr th:only-of-type {\n",
       "        vertical-align: middle;\n",
       "    }\n",
       "\n",
       "    .dataframe tbody tr th {\n",
       "        vertical-align: top;\n",
       "    }\n",
       "\n",
       "    .dataframe thead th {\n",
       "        text-align: right;\n",
       "    }\n",
       "</style>\n",
       "<table border=\"1\" class=\"dataframe\">\n",
       "  <thead>\n",
       "    <tr style=\"text-align: right;\">\n",
       "      <th></th>\n",
       "      <th>TransactionID</th>\n",
       "      <th>CustomerID</th>\n",
       "      <th>CustomerDOB</th>\n",
       "      <th>CustGender</th>\n",
       "      <th>CustLocation</th>\n",
       "      <th>CustAccountBalance</th>\n",
       "      <th>TransactionDate</th>\n",
       "      <th>TransactionTime</th>\n",
       "      <th>TransactionAmount (INR)</th>\n",
       "      <th>CustomerAge</th>\n",
       "    </tr>\n",
       "  </thead>\n",
       "  <tbody>\n",
       "    <tr>\n",
       "      <th>2</th>\n",
       "      <td>T3</td>\n",
       "      <td>C4417068</td>\n",
       "      <td>1996-11-26</td>\n",
       "      <td>F</td>\n",
       "      <td>MUMBAI</td>\n",
       "      <td>17874.44</td>\n",
       "      <td>2016-08-02</td>\n",
       "      <td>142712</td>\n",
       "      <td>459.0</td>\n",
       "      <td>20.0</td>\n",
       "    </tr>\n",
       "    <tr>\n",
       "      <th>3</th>\n",
       "      <td>T4</td>\n",
       "      <td>C5342380</td>\n",
       "      <td>1973-09-14</td>\n",
       "      <td>F</td>\n",
       "      <td>MUMBAI</td>\n",
       "      <td>866503.21</td>\n",
       "      <td>2016-08-02</td>\n",
       "      <td>142714</td>\n",
       "      <td>2060.0</td>\n",
       "      <td>43.0</td>\n",
       "    </tr>\n",
       "    <tr>\n",
       "      <th>4</th>\n",
       "      <td>T5</td>\n",
       "      <td>C9031234</td>\n",
       "      <td>1988-03-24</td>\n",
       "      <td>F</td>\n",
       "      <td>NAVI MUMBAI</td>\n",
       "      <td>6714.43</td>\n",
       "      <td>2016-08-02</td>\n",
       "      <td>181156</td>\n",
       "      <td>1762.5</td>\n",
       "      <td>28.0</td>\n",
       "    </tr>\n",
       "    <tr>\n",
       "      <th>6</th>\n",
       "      <td>T7</td>\n",
       "      <td>C7126560</td>\n",
       "      <td>1992-01-26</td>\n",
       "      <td>F</td>\n",
       "      <td>MUMBAI</td>\n",
       "      <td>973.46</td>\n",
       "      <td>2016-08-02</td>\n",
       "      <td>173806</td>\n",
       "      <td>566.0</td>\n",
       "      <td>24.0</td>\n",
       "    </tr>\n",
       "    <tr>\n",
       "      <th>7</th>\n",
       "      <td>T8</td>\n",
       "      <td>C1220223</td>\n",
       "      <td>1982-01-27</td>\n",
       "      <td>M</td>\n",
       "      <td>MUMBAI</td>\n",
       "      <td>95075.54</td>\n",
       "      <td>2016-08-02</td>\n",
       "      <td>170537</td>\n",
       "      <td>148.0</td>\n",
       "      <td>34.0</td>\n",
       "    </tr>\n",
       "  </tbody>\n",
       "</table>\n",
       "</div>"
      ],
      "text/plain": [
       "  TransactionID CustomerID CustomerDOB CustGender CustLocation  \\\n",
       "2            T3   C4417068  1996-11-26          F       MUMBAI   \n",
       "3            T4   C5342380  1973-09-14          F       MUMBAI   \n",
       "4            T5   C9031234  1988-03-24          F  NAVI MUMBAI   \n",
       "6            T7   C7126560  1992-01-26          F       MUMBAI   \n",
       "7            T8   C1220223  1982-01-27          M       MUMBAI   \n",
       "\n",
       "   CustAccountBalance TransactionDate  TransactionTime  \\\n",
       "2            17874.44      2016-08-02           142712   \n",
       "3           866503.21      2016-08-02           142714   \n",
       "4             6714.43      2016-08-02           181156   \n",
       "6              973.46      2016-08-02           173806   \n",
       "7            95075.54      2016-08-02           170537   \n",
       "\n",
       "   TransactionAmount (INR)  CustomerAge  \n",
       "2                    459.0         20.0  \n",
       "3                   2060.0         43.0  \n",
       "4                   1762.5         28.0  \n",
       "6                    566.0         24.0  \n",
       "7                    148.0         34.0  "
      ]
     },
     "execution_count": 67,
     "metadata": {},
     "output_type": "execute_result"
    }
   ],
   "source": [
    "df.head()"
   ]
  },
  {
   "cell_type": "markdown",
   "metadata": {},
   "source": [
    "# Adding relevant information to the dataset"
   ]
  },
  {
   "cell_type": "markdown",
   "metadata": {},
   "source": [
    "A relevant information I should gather is the frequency that people make transactions, the freshness of customer activity and the willingness to spend."
   ]
  },
  {
   "cell_type": "markdown",
   "metadata": {},
   "source": [
    "This is relevant information for banks, because this provides answer to some questions like:\n",
    " - Who are the best clients?\n",
    " - Who are the most loyal customers?\n",
    " - Which client segment will react favorably to your current/next campaign?"
   ]
  },
  {
   "cell_type": "markdown",
   "metadata": {},
   "source": [
    "## Recency"
   ]
  },
  {
   "cell_type": "markdown",
   "metadata": {},
   "source": [
    "To calculate Recency will start by calculating the first and last transaction"
   ]
  },
  {
   "cell_type": "code",
   "execution_count": 69,
   "metadata": {},
   "outputs": [],
   "source": [
    "df['TransactionDate1']=df['TransactionDate'] # ==> to calculate the minimum (first transaction)\n",
    "df['TransactionDate2']=df['TransactionDate'] # ==> to calculate the maximum (last transaction)"
   ]
  },
  {
   "cell_type": "markdown",
   "metadata": {},
   "source": [
    "Will create a new dataframe for this purpose"
   ]
  },
  {
   "cell_type": "code",
   "execution_count": 70,
   "metadata": {},
   "outputs": [
    {
     "data": {
      "text/html": [
       "<div>\n",
       "<style scoped>\n",
       "    .dataframe tbody tr th:only-of-type {\n",
       "        vertical-align: middle;\n",
       "    }\n",
       "\n",
       "    .dataframe tbody tr th {\n",
       "        vertical-align: top;\n",
       "    }\n",
       "\n",
       "    .dataframe thead th {\n",
       "        text-align: right;\n",
       "    }\n",
       "</style>\n",
       "<table border=\"1\" class=\"dataframe\">\n",
       "  <thead>\n",
       "    <tr style=\"text-align: right;\">\n",
       "      <th></th>\n",
       "      <th>CustomerID</th>\n",
       "      <th>TransactionID</th>\n",
       "      <th>CustGender</th>\n",
       "      <th>CustLocation</th>\n",
       "      <th>CustAccountBalance</th>\n",
       "      <th>TransactionAmount (INR)</th>\n",
       "      <th>CustomerAge</th>\n",
       "      <th>TransactionDate2</th>\n",
       "      <th>TransactionDate1</th>\n",
       "      <th>TransactionDate</th>\n",
       "    </tr>\n",
       "  </thead>\n",
       "  <tbody>\n",
       "    <tr>\n",
       "      <th>0</th>\n",
       "      <td>C1010011</td>\n",
       "      <td>2</td>\n",
       "      <td>F</td>\n",
       "      <td>NOIDA</td>\n",
       "      <td>76340.635</td>\n",
       "      <td>2553.0</td>\n",
       "      <td>28.5</td>\n",
       "      <td>2016-09-26</td>\n",
       "      <td>2016-08-09</td>\n",
       "      <td>2016-09-02</td>\n",
       "    </tr>\n",
       "    <tr>\n",
       "      <th>1</th>\n",
       "      <td>C1010012</td>\n",
       "      <td>1</td>\n",
       "      <td>M</td>\n",
       "      <td>MUMBAI</td>\n",
       "      <td>24204.490</td>\n",
       "      <td>1499.0</td>\n",
       "      <td>22.0</td>\n",
       "      <td>2016-08-14</td>\n",
       "      <td>2016-08-14</td>\n",
       "      <td>2016-08-14</td>\n",
       "    </tr>\n",
       "    <tr>\n",
       "      <th>2</th>\n",
       "      <td>C1010014</td>\n",
       "      <td>2</td>\n",
       "      <td>F</td>\n",
       "      <td>MUMBAI</td>\n",
       "      <td>100112.950</td>\n",
       "      <td>727.5</td>\n",
       "      <td>28.0</td>\n",
       "      <td>2016-08-07</td>\n",
       "      <td>2016-08-01</td>\n",
       "      <td>2016-08-04</td>\n",
       "    </tr>\n",
       "    <tr>\n",
       "      <th>3</th>\n",
       "      <td>C1010024</td>\n",
       "      <td>1</td>\n",
       "      <td>M</td>\n",
       "      <td>KOLKATA</td>\n",
       "      <td>87058.650</td>\n",
       "      <td>5000.0</td>\n",
       "      <td>51.0</td>\n",
       "      <td>2016-08-18</td>\n",
       "      <td>2016-08-18</td>\n",
       "      <td>2016-08-18</td>\n",
       "    </tr>\n",
       "    <tr>\n",
       "      <th>4</th>\n",
       "      <td>C1010028</td>\n",
       "      <td>1</td>\n",
       "      <td>F</td>\n",
       "      <td>DELHI</td>\n",
       "      <td>296828.370</td>\n",
       "      <td>557.0</td>\n",
       "      <td>28.0</td>\n",
       "      <td>2016-08-29</td>\n",
       "      <td>2016-08-29</td>\n",
       "      <td>2016-08-29</td>\n",
       "    </tr>\n",
       "  </tbody>\n",
       "</table>\n",
       "</div>"
      ],
      "text/plain": [
       "  CustomerID  TransactionID CustGender CustLocation  CustAccountBalance  \\\n",
       "0   C1010011              2          F        NOIDA           76340.635   \n",
       "1   C1010012              1          M       MUMBAI           24204.490   \n",
       "2   C1010014              2          F       MUMBAI          100112.950   \n",
       "3   C1010024              1          M      KOLKATA           87058.650   \n",
       "4   C1010028              1          F        DELHI          296828.370   \n",
       "\n",
       "   TransactionAmount (INR)  CustomerAge TransactionDate2 TransactionDate1  \\\n",
       "0                   2553.0         28.5       2016-09-26       2016-08-09   \n",
       "1                   1499.0         22.0       2016-08-14       2016-08-14   \n",
       "2                    727.5         28.0       2016-08-07       2016-08-01   \n",
       "3                   5000.0         51.0       2016-08-18       2016-08-18   \n",
       "4                    557.0         28.0       2016-08-29       2016-08-29   \n",
       "\n",
       "  TransactionDate  \n",
       "0      2016-09-02  \n",
       "1      2016-08-14  \n",
       "2      2016-08-04  \n",
       "3      2016-08-18  \n",
       "4      2016-08-29  "
      ]
     },
     "execution_count": 70,
     "metadata": {},
     "output_type": "execute_result"
    }
   ],
   "source": [
    "MRF_df = df.groupby(\"CustomerID\").agg({\n",
    "                                        \"TransactionID\" : \"count\",\n",
    "                                        \"CustGender\" : \"first\",\n",
    "                                        \"CustLocation\":\"first\",\n",
    "                                        \"CustAccountBalance\"  : \"mean\",\n",
    "                                        \"TransactionAmount (INR)\" : \"mean\",\n",
    "                                        \"CustomerAge\" : \"median\",\n",
    "                                        \"TransactionDate2\":\"max\",\n",
    "                                        \"TransactionDate1\":\"min\",\n",
    "                                        \"TransactionDate\":\"median\"\n",
    "                        })\n",
    "\n",
    "MRF_df = MRF_df.reset_index()\n",
    "MRF_df.head()"
   ]
  },
  {
   "cell_type": "code",
   "execution_count": 72,
   "metadata": {},
   "outputs": [],
   "source": [
    "MRF_df.drop(columns=[\"CustomerID\"],inplace=True)"
   ]
  },
  {
   "cell_type": "markdown",
   "metadata": {},
   "source": [
    "The dataset already has a transaction column but is identified as TransactionID and it accumulates the number of transactions made by a certain Customer, so I will just change the name of the column"
   ]
  },
  {
   "cell_type": "code",
   "execution_count": 73,
   "metadata": {},
   "outputs": [],
   "source": [
    "MRF_df.rename(columns={\"TransactionID\":\"Frequency\"},inplace=True)"
   ]
  },
  {
   "cell_type": "code",
   "execution_count": 74,
   "metadata": {},
   "outputs": [],
   "source": [
    "MRF_df['Recency']=MRF_df['TransactionDate2']-MRF_df['TransactionDate1']"
   ]
  },
  {
   "cell_type": "code",
   "execution_count": 75,
   "metadata": {},
   "outputs": [
    {
     "name": "stdout",
     "output_type": "stream",
     "text": [
      "0        48 days\n",
      "1         0 days\n",
      "2         6 days\n",
      "3         0 days\n",
      "4         0 days\n",
      "           ...  \n",
      "577749    0 days\n",
      "577750    0 days\n",
      "577751    0 days\n",
      "577752    0 days\n",
      "577753    0 days\n",
      "Name: Recency, Length: 577754, dtype: timedelta64[ns]\n"
     ]
    }
   ],
   "source": [
    "print(MRF_df['Recency'])"
   ]
  },
  {
   "cell_type": "markdown",
   "metadata": {},
   "source": [
    "To calculate the recency I had to subtract 2 dates and the result will always be in days, since it is not usefull in this datatype for what I am doing, I will convert it to string and remove the \"days\" part of the values"
   ]
  },
  {
   "cell_type": "code",
   "execution_count": 77,
   "metadata": {},
   "outputs": [
    {
     "data": {
      "text/plain": [
       "'18'"
      ]
     },
     "execution_count": 77,
     "metadata": {},
     "output_type": "execute_result"
    }
   ],
   "source": [
    "MRF_df['Recency']=MRF_df['Recency'].astype(str)\n",
    "x='18 day'\n",
    "re.search('\\d+',x).group()"
   ]
  },
  {
   "cell_type": "code",
   "execution_count": 78,
   "metadata": {},
   "outputs": [],
   "source": [
    "MRF_df['Recency']=MRF_df['Recency'].apply(lambda x :re.search('\\d+',x).group())\n",
    "MRF_df['Recency']=MRF_df['Recency'].astype(int)"
   ]
  },
  {
   "cell_type": "markdown",
   "metadata": {},
   "source": [
    "As seen before some entries are with 0 days, that means a customer made a recent one time transaction, so I will convert 0 to 1"
   ]
  },
  {
   "cell_type": "code",
   "execution_count": 79,
   "metadata": {},
   "outputs": [],
   "source": [
    "def rep_0(i):\n",
    "    if i==0:\n",
    "        return 1\n",
    "    else:\n",
    "        return i\n",
    "MRF_df['Recency']=MRF_df['Recency'].apply(rep_0)"
   ]
  },
  {
   "cell_type": "markdown",
   "metadata": {},
   "source": [
    "TransactionDate1 and TransactionDate2 are no longer useful so I will drop them from the dataframe now"
   ]
  },
  {
   "cell_type": "code",
   "execution_count": 80,
   "metadata": {},
   "outputs": [],
   "source": [
    "MRF_df.drop(columns=[\"TransactionDate1\",\"TransactionDate2\"],inplace=True)"
   ]
  },
  {
   "cell_type": "code",
   "execution_count": 81,
   "metadata": {},
   "outputs": [
    {
     "data": {
      "text/html": [
       "<div>\n",
       "<style scoped>\n",
       "    .dataframe tbody tr th:only-of-type {\n",
       "        vertical-align: middle;\n",
       "    }\n",
       "\n",
       "    .dataframe tbody tr th {\n",
       "        vertical-align: top;\n",
       "    }\n",
       "\n",
       "    .dataframe thead th {\n",
       "        text-align: right;\n",
       "    }\n",
       "</style>\n",
       "<table border=\"1\" class=\"dataframe\">\n",
       "  <thead>\n",
       "    <tr style=\"text-align: right;\">\n",
       "      <th></th>\n",
       "      <th>Frequency</th>\n",
       "      <th>CustGender</th>\n",
       "      <th>CustLocation</th>\n",
       "      <th>CustAccountBalance</th>\n",
       "      <th>TransactionAmount (INR)</th>\n",
       "      <th>CustomerAge</th>\n",
       "      <th>TransactionDate</th>\n",
       "      <th>Recency</th>\n",
       "    </tr>\n",
       "  </thead>\n",
       "  <tbody>\n",
       "    <tr>\n",
       "      <th>0</th>\n",
       "      <td>2</td>\n",
       "      <td>F</td>\n",
       "      <td>NOIDA</td>\n",
       "      <td>76340.635</td>\n",
       "      <td>2553.0</td>\n",
       "      <td>28.5</td>\n",
       "      <td>2016-09-02</td>\n",
       "      <td>48</td>\n",
       "    </tr>\n",
       "    <tr>\n",
       "      <th>1</th>\n",
       "      <td>1</td>\n",
       "      <td>M</td>\n",
       "      <td>MUMBAI</td>\n",
       "      <td>24204.490</td>\n",
       "      <td>1499.0</td>\n",
       "      <td>22.0</td>\n",
       "      <td>2016-08-14</td>\n",
       "      <td>1</td>\n",
       "    </tr>\n",
       "    <tr>\n",
       "      <th>2</th>\n",
       "      <td>2</td>\n",
       "      <td>F</td>\n",
       "      <td>MUMBAI</td>\n",
       "      <td>100112.950</td>\n",
       "      <td>727.5</td>\n",
       "      <td>28.0</td>\n",
       "      <td>2016-08-04</td>\n",
       "      <td>6</td>\n",
       "    </tr>\n",
       "    <tr>\n",
       "      <th>3</th>\n",
       "      <td>1</td>\n",
       "      <td>M</td>\n",
       "      <td>KOLKATA</td>\n",
       "      <td>87058.650</td>\n",
       "      <td>5000.0</td>\n",
       "      <td>51.0</td>\n",
       "      <td>2016-08-18</td>\n",
       "      <td>1</td>\n",
       "    </tr>\n",
       "    <tr>\n",
       "      <th>4</th>\n",
       "      <td>1</td>\n",
       "      <td>F</td>\n",
       "      <td>DELHI</td>\n",
       "      <td>296828.370</td>\n",
       "      <td>557.0</td>\n",
       "      <td>28.0</td>\n",
       "      <td>2016-08-29</td>\n",
       "      <td>1</td>\n",
       "    </tr>\n",
       "  </tbody>\n",
       "</table>\n",
       "</div>"
      ],
      "text/plain": [
       "   Frequency CustGender CustLocation  CustAccountBalance  \\\n",
       "0          2          F        NOIDA           76340.635   \n",
       "1          1          M       MUMBAI           24204.490   \n",
       "2          2          F       MUMBAI          100112.950   \n",
       "3          1          M      KOLKATA           87058.650   \n",
       "4          1          F        DELHI          296828.370   \n",
       "\n",
       "   TransactionAmount (INR)  CustomerAge TransactionDate  Recency  \n",
       "0                   2553.0         28.5      2016-09-02       48  \n",
       "1                   1499.0         22.0      2016-08-14        1  \n",
       "2                    727.5         28.0      2016-08-04        6  \n",
       "3                   5000.0         51.0      2016-08-18        1  \n",
       "4                    557.0         28.0      2016-08-29        1  "
      ]
     },
     "execution_count": 81,
     "metadata": {},
     "output_type": "execute_result"
    }
   ],
   "source": [
    "MRF_df.head()"
   ]
  },
  {
   "cell_type": "markdown",
   "metadata": {},
   "source": [
    "Now I can move on to Exploratory Data Analysis on the dataset"
   ]
  }
 ],
 "metadata": {
  "kernelspec": {
   "display_name": "Python 3",
   "language": "python",
   "name": "python3"
  },
  "language_info": {
   "codemirror_mode": {
    "name": "ipython",
    "version": 3
   },
   "file_extension": ".py",
   "mimetype": "text/x-python",
   "name": "python",
   "nbconvert_exporter": "python",
   "pygments_lexer": "ipython3",
   "version": "3.11.5"
  }
 },
 "nbformat": 4,
 "nbformat_minor": 2
}
